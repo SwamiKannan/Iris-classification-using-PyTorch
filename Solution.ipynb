{
 "cells": [
  {
   "cell_type": "code",
   "execution_count": 13,
   "metadata": {},
   "outputs": [],
   "source": [
    "import torch\n",
    "import numpy as np\n",
    "import pandas as pd\n",
    "import torch.nn as nn\n",
    "import torch.nn.functional as F\n",
    "from sklearn.model_selection import train_test_split\n",
    "import matplotlib.pyplot as plt"
   ]
  },
  {
   "cell_type": "markdown",
   "metadata": {},
   "source": [
    "<b>Key steps:</b> <br>\n",
    "   &nbsp;&nbsp; 1. Import the data and split it<br>\n",
    "   &nbsp;&nbsp; 2. Build the class and instantiate it<br>\n",
    "   &nbsp;&nbsp; 3. Instantiate CELoss<br>\n",
    "   &nbsp;&nbsp; 4. Instantiate Adam Optimizer<br>\n",
    "   &nbsp;&nbsp; 5. Train the data<br>\n",
    "   &nbsp;&nbsp; 6. Test the data without grads<br>\n",
    "   &nbsp;&nbsp; 7. Take a new sample and see if it classifies it correctly<br>"
   ]
  },
  {
   "cell_type": "markdown",
   "metadata": {},
   "source": [
    "#### Import data and split it"
   ]
  },
  {
   "cell_type": "code",
   "execution_count": 2,
   "metadata": {},
   "outputs": [],
   "source": [
    "df=pd.read_csv('../Data/iris.csv')"
   ]
  },
  {
   "cell_type": "code",
   "execution_count": 3,
   "metadata": {},
   "outputs": [],
   "source": [
    "features=df.drop('target',axis=1).values\n",
    "label=df['target'].values"
   ]
  },
  {
   "cell_type": "code",
   "execution_count": 4,
   "metadata": {},
   "outputs": [],
   "source": [
    "X_train, X_test, y_train, y_test = train_test_split(features,label, test_size=0.2, random_state=33)"
   ]
  },
  {
   "cell_type": "code",
   "execution_count": 5,
   "metadata": {},
   "outputs": [],
   "source": [
    "X_train=torch.FloatTensor(X_train)\n",
    "X_test=torch.FloatTensor(X_test)\n",
    "y_train=torch.LongTensor(y_train)\n",
    "y_test=torch.LongTensor(y_test)"
   ]
  },
  {
   "cell_type": "markdown",
   "metadata": {},
   "source": [
    "#### Build the class and instantiate it"
   ]
  },
  {
   "cell_type": "code",
   "execution_count": 6,
   "metadata": {},
   "outputs": [],
   "source": [
    "class Model(nn.Module):\n",
    "    def __init__(self,input_features=4,hidden_1=8, hidden_2=9,out=3):\n",
    "        super().__init__()\n",
    "        self.l1=nn.Linear(input_features,hidden_1)\n",
    "        self.l2=nn.Linear(hidden_1,hidden_2)\n",
    "        self.l3=nn.Linear(hidden_2,out)\n",
    "        \n",
    "    def forward(self,X):\n",
    "        X=F.relu(self.l1(X))\n",
    "        X=F.relu(self.l2(X))\n",
    "        X=self.l3(X)\n",
    "        return X"
   ]
  },
  {
   "cell_type": "code",
   "execution_count": 7,
   "metadata": {},
   "outputs": [],
   "source": [
    "torch.manual_seed(32)\n",
    "model=Model(4,8,9,3)"
   ]
  },
  {
   "cell_type": "markdown",
   "metadata": {},
   "source": [
    "#### Instantiate CELoss"
   ]
  },
  {
   "cell_type": "code",
   "execution_count": 8,
   "metadata": {},
   "outputs": [],
   "source": [
    "criterion = nn.CrossEntropyLoss()"
   ]
  },
  {
   "cell_type": "markdown",
   "metadata": {},
   "source": [
    "#### Instantiate optimizer"
   ]
  },
  {
   "cell_type": "code",
   "execution_count": 9,
   "metadata": {},
   "outputs": [],
   "source": [
    "optimizer= torch.optim.Adam(model.parameters(),lr=0.01)"
   ]
  },
  {
   "cell_type": "markdown",
   "metadata": {},
   "source": [
    "#### Training the data"
   ]
  },
  {
   "cell_type": "code",
   "execution_count": 10,
   "metadata": {},
   "outputs": [],
   "source": [
    "epochs=100\n",
    "losses=[]"
   ]
  },
  {
   "cell_type": "code",
   "execution_count": 11,
   "metadata": {},
   "outputs": [
    {
     "name": "stdout",
     "output_type": "stream",
     "text": [
      "For epoch 0, the loss is 1.1199871301651\n",
      "For epoch 10, the loss is 0.9925971627235413\n",
      "For epoch 20, the loss is 0.7313159108161926\n",
      "For epoch 30, the loss is 0.49000686407089233\n",
      "For epoch 40, the loss is 0.3710560202598572\n",
      "For epoch 50, the loss is 0.2481580227613449\n",
      "For epoch 60, the loss is 0.1472524106502533\n",
      "For epoch 70, the loss is 0.09243608266115189\n",
      "For epoch 80, the loss is 0.07043091207742691\n",
      "For epoch 90, the loss is 0.061275649815797806\n"
     ]
    }
   ],
   "source": [
    "%timeit \n",
    "for e in range(epochs):\n",
    "    y_pred=model.forward(X_train)\n",
    "    loss=criterion(y_pred,y_train)\n",
    "    losses.append(loss)\n",
    "    if e%10==0:\n",
    "        print('For epoch {}, the loss is {}'.format(e,loss))\n",
    "    \n",
    "    optimizer.zero_grad()\n",
    "    loss.backward()\n",
    "    optimizer.step()"
   ]
  },
  {
   "cell_type": "code",
   "execution_count": 15,
   "metadata": {},
   "outputs": [
    {
     "data": {
      "text/plain": [
       "[<matplotlib.lines.Line2D at 0x27aacac9e48>]"
      ]
     },
     "execution_count": 15,
     "metadata": {},
     "output_type": "execute_result"
    },
    {
     "data": {
      "image/png": "[encoded data removed]",
      "text/plain": [
       "<Figure size 432x288 with 1 Axes>"
      ]
     },
     "metadata": {
      "needs_background": "light"
     },
     "output_type": "display_data"
    }
   ],
   "source": [
    "plt.plot(range(epochs),losses)"
   ]
  },
  {
   "cell_type": "code",
   "execution_count": 16,
   "metadata": {},
   "outputs": [
    {
     "name": "stdout",
     "output_type": "stream",
     "text": [
      "tensor(0.0656)\n"
     ]
    }
   ],
   "source": [
    "with torch.no_grad():\n",
    "    y_test_pred=model.forward(X_test)\n",
    "    loss=criterion(y_test_pred,y_test)\n",
    "    print(loss)"
   ]
  },
  {
   "cell_type": "code",
   "execution_count": 30,
   "metadata": {},
   "outputs": [
    {
     "name": "stdout",
     "output_type": "stream",
     "text": [
      "1 \t 1 \t 1\n",
      "2 \t 1 \t 1\n",
      "3 \t 0 \t 0\n",
      "4 \t 1 \t 1\n",
      "5 \t 2 \t 2\n",
      "6 \t 2 \t 2\n",
      "7 \t 0 \t 0\n",
      "8 \t 0 \t 0\n",
      "9 \t 2 \t 2\n",
      "10 \t 2 \t 2\n",
      "11 \t 2 \t 2\n",
      "12 \t 0 \t 0\n",
      "13 \t 2 \t 2\n",
      "14 \t 1 \t 1\n",
      "15 \t 2 \t 2\n",
      "16 \t 1 \t 1\n",
      "17 \t 1 \t 2\n",
      "18 \t 0 \t 0\n",
      "19 \t 1 \t 1\n",
      "20 \t 2 \t 2\n",
      "21 \t 0 \t 0\n",
      "22 \t 0 \t 0\n",
      "23 \t 2 \t 2\n",
      "24 \t 0 \t 0\n",
      "25 \t 2 \t 2\n",
      "26 \t 2 \t 2\n",
      "27 \t 1 \t 1\n",
      "28 \t 1 \t 1\n",
      "29 \t 2 \t 2\n",
      "30 \t 2 \t 2\n",
      "You have got 29 correct which is 96.66666666666667 % correct\n",
      "tensor([-3.8703,  4.1573,  4.1354])\n"
     ]
    }
   ],
   "source": [
    "correct=0\n",
    "for i in range(len(y_test)):\n",
    "    print('{} \\t {} \\t {}'.format(i+1,y_test_pred[i].argmax().item(),y_test[i]))\n",
    "    if y_test_pred[i].argmax().item()==y_test[i]:\n",
    "        correct+=1\n",
    "print('You have got {} correct which is {} % correct'.format(correct, correct*100/len(y_test)))\n",
    "print(y_test_pred[16])"
   ]
  },
  {
   "cell_type": "code",
   "execution_count": 26,
   "metadata": {},
   "outputs": [],
   "source": [
    "mystery_iris=torch.tensor([5.6,3.7,2.2,0.5])"
   ]
  },
  {
   "cell_type": "code",
   "execution_count": 28,
   "metadata": {},
   "outputs": [
    {
     "name": "stdout",
     "output_type": "stream",
     "text": [
      "tensor([  8.1056,   3.2273, -13.5074], grad_fn=<AddBackward0>)\n",
      "The correct class is 0\n"
     ]
    }
   ],
   "source": [
    "y_pred=model(mystery_iris)\n",
    "print(y_pred)\n",
    "print('The correct class is {}'.format(y_pred.argmax().item()))"
   ]
  },
  {
   "cell_type": "code",
   "execution_count": null,
   "metadata": {},
   "outputs": [],
   "source": []
  }
 ],
 "metadata": {
  "kernelspec": {
   "display_name": "Python 3",
   "language": "python",
   "name": "python3"
  },
  "language_info": {
   "codemirror_mode": {
    "name": "ipython",
    "version": 3
   },
   "file_extension": ".py",
   "mimetype": "text/x-python",
   "name": "python",
   "nbconvert_exporter": "python",
   "pygments_lexer": "ipython3",
   "version": "3.8.5"
  }
 },
 "nbformat": 4,
 "nbformat_minor": 5
}
